{
 "cells": [
  {
   "cell_type": "code",
   "execution_count": 2,
   "metadata": {},
   "outputs": [],
   "source": [
    "import httpx\n",
    "import json\n",
    "import os\n",
    "from datetime import datetime, timedelta\n",
    "import pandas as pd"
   ]
  },
  {
   "cell_type": "code",
   "execution_count": 4,
   "metadata": {},
   "outputs": [],
   "source": [
    "# Get data from Octopus API\n",
    "url = \"https://api.octopus.energy/v1/products/GO-VAR-22-10-14/electricity-tariffs/E-1R-GO-VAR-22-10-14-A/standard-unit-rates/?period_from=2024-06-30T00:00Z&period_to=2024-07-02T12\"\n",
    "response = httpx.get(url)"
   ]
  },
  {
   "cell_type": "code",
   "execution_count": 5,
   "metadata": {},
   "outputs": [
    {
     "data": {
      "text/html": [
       "<div>\n",
       "<style scoped>\n",
       "    .dataframe tbody tr th:only-of-type {\n",
       "        vertical-align: middle;\n",
       "    }\n",
       "\n",
       "    .dataframe tbody tr th {\n",
       "        vertical-align: top;\n",
       "    }\n",
       "\n",
       "    .dataframe thead th {\n",
       "        text-align: right;\n",
       "    }\n",
       "</style>\n",
       "<table border=\"1\" class=\"dataframe\">\n",
       "  <thead>\n",
       "    <tr style=\"text-align: right;\">\n",
       "      <th></th>\n",
       "      <th>value_exc_vat</th>\n",
       "      <th>value_inc_vat</th>\n",
       "      <th>valid_from</th>\n",
       "      <th>valid_to</th>\n",
       "      <th>payment_method</th>\n",
       "    </tr>\n",
       "  </thead>\n",
       "  <tbody>\n",
       "    <tr>\n",
       "      <th>0</th>\n",
       "      <td>23.2310</td>\n",
       "      <td>24.39255</td>\n",
       "      <td>2024-07-02T04:30:00Z</td>\n",
       "      <td>2024-07-02T23:30:00Z</td>\n",
       "      <td>None</td>\n",
       "    </tr>\n",
       "    <tr>\n",
       "      <th>1</th>\n",
       "      <td>8.0950</td>\n",
       "      <td>8.49975</td>\n",
       "      <td>2024-07-01T23:30:00Z</td>\n",
       "      <td>2024-07-02T04:30:00Z</td>\n",
       "      <td>None</td>\n",
       "    </tr>\n",
       "    <tr>\n",
       "      <th>2</th>\n",
       "      <td>23.2310</td>\n",
       "      <td>24.39255</td>\n",
       "      <td>2024-07-01T04:30:00Z</td>\n",
       "      <td>2024-07-01T23:30:00Z</td>\n",
       "      <td>None</td>\n",
       "    </tr>\n",
       "    <tr>\n",
       "      <th>3</th>\n",
       "      <td>8.0950</td>\n",
       "      <td>8.49975</td>\n",
       "      <td>2024-06-30T23:30:00Z</td>\n",
       "      <td>2024-07-01T04:30:00Z</td>\n",
       "      <td>None</td>\n",
       "    </tr>\n",
       "    <tr>\n",
       "      <th>4</th>\n",
       "      <td>23.2310</td>\n",
       "      <td>24.39255</td>\n",
       "      <td>2024-06-30T23:00:00Z</td>\n",
       "      <td>2024-06-30T23:30:00Z</td>\n",
       "      <td>None</td>\n",
       "    </tr>\n",
       "    <tr>\n",
       "      <th>5</th>\n",
       "      <td>26.6060</td>\n",
       "      <td>27.93630</td>\n",
       "      <td>2024-06-30T03:30:00Z</td>\n",
       "      <td>2024-06-30T23:00:00Z</td>\n",
       "      <td>None</td>\n",
       "    </tr>\n",
       "    <tr>\n",
       "      <th>6</th>\n",
       "      <td>8.5714</td>\n",
       "      <td>8.99997</td>\n",
       "      <td>2024-06-29T23:30:00Z</td>\n",
       "      <td>2024-06-30T03:30:00Z</td>\n",
       "      <td>None</td>\n",
       "    </tr>\n",
       "  </tbody>\n",
       "</table>\n",
       "</div>"
      ],
      "text/plain": [
       "   value_exc_vat  value_inc_vat            valid_from              valid_to  \\\n",
       "0        23.2310       24.39255  2024-07-02T04:30:00Z  2024-07-02T23:30:00Z   \n",
       "1         8.0950        8.49975  2024-07-01T23:30:00Z  2024-07-02T04:30:00Z   \n",
       "2        23.2310       24.39255  2024-07-01T04:30:00Z  2024-07-01T23:30:00Z   \n",
       "3         8.0950        8.49975  2024-06-30T23:30:00Z  2024-07-01T04:30:00Z   \n",
       "4        23.2310       24.39255  2024-06-30T23:00:00Z  2024-06-30T23:30:00Z   \n",
       "5        26.6060       27.93630  2024-06-30T03:30:00Z  2024-06-30T23:00:00Z   \n",
       "6         8.5714        8.99997  2024-06-29T23:30:00Z  2024-06-30T03:30:00Z   \n",
       "\n",
       "  payment_method  \n",
       "0           None  \n",
       "1           None  \n",
       "2           None  \n",
       "3           None  \n",
       "4           None  \n",
       "5           None  \n",
       "6           None  "
      ]
     },
     "execution_count": 5,
     "metadata": {},
     "output_type": "execute_result"
    }
   ],
   "source": [
    "# Load into a DataFrame\n",
    "data = response.json()\n",
    "df = pd.DataFrame(data['results'])\n",
    "df"
   ]
  },
  {
   "cell_type": "code",
   "execution_count": 6,
   "metadata": {},
   "outputs": [
    {
     "data": {
      "text/plain": [
       "{'count': 7,\n",
       " 'next': None,\n",
       " 'previous': None,\n",
       " 'results': [{'value_exc_vat': 23.231,\n",
       "   'value_inc_vat': 24.39255,\n",
       "   'valid_from': '2024-07-02T04:30:00Z',\n",
       "   'valid_to': '2024-07-02T23:30:00Z',\n",
       "   'payment_method': None},\n",
       "  {'value_exc_vat': 8.095,\n",
       "   'value_inc_vat': 8.49975,\n",
       "   'valid_from': '2024-07-01T23:30:00Z',\n",
       "   'valid_to': '2024-07-02T04:30:00Z',\n",
       "   'payment_method': None},\n",
       "  {'value_exc_vat': 23.231,\n",
       "   'value_inc_vat': 24.39255,\n",
       "   'valid_from': '2024-07-01T04:30:00Z',\n",
       "   'valid_to': '2024-07-01T23:30:00Z',\n",
       "   'payment_method': None},\n",
       "  {'value_exc_vat': 8.095,\n",
       "   'value_inc_vat': 8.49975,\n",
       "   'valid_from': '2024-06-30T23:30:00Z',\n",
       "   'valid_to': '2024-07-01T04:30:00Z',\n",
       "   'payment_method': None},\n",
       "  {'value_exc_vat': 23.231,\n",
       "   'value_inc_vat': 24.39255,\n",
       "   'valid_from': '2024-06-30T23:00:00Z',\n",
       "   'valid_to': '2024-06-30T23:30:00Z',\n",
       "   'payment_method': None},\n",
       "  {'value_exc_vat': 26.606,\n",
       "   'value_inc_vat': 27.9363,\n",
       "   'valid_from': '2024-06-30T03:30:00Z',\n",
       "   'valid_to': '2024-06-30T23:00:00Z',\n",
       "   'payment_method': None},\n",
       "  {'value_exc_vat': 8.5714,\n",
       "   'value_inc_vat': 8.99997,\n",
       "   'valid_from': '2024-06-29T23:30:00Z',\n",
       "   'valid_to': '2024-06-30T03:30:00Z',\n",
       "   'payment_method': None}]}"
      ]
     },
     "execution_count": 6,
     "metadata": {},
     "output_type": "execute_result"
    }
   ],
   "source": [
    "data"
   ]
  },
  {
   "cell_type": "code",
   "execution_count": 7,
   "metadata": {},
   "outputs": [],
   "source": [
    "series = {\n",
    "    \"monthDataSeries1\": {\n",
    "        \"prices\": [],\n",
    "        \"dates\": []\n",
    "    }\n",
    "}"
   ]
  },
  {
   "cell_type": "code",
   "execution_count": 8,
   "metadata": {},
   "outputs": [],
   "source": [
    "for result in data[\"results\"]:\n",
    "    value_inc_vat = result[\"value_inc_vat\"]\n",
    "    valid_from = datetime.fromisoformat(result[\"valid_from\"][:-1])  # Remove the 'Z' from the end\n",
    "    valid_from_str = valid_from.strftime(\"%d %b %Y\")\n",
    "\n",
    "    series[\"monthDataSeries1\"][\"prices\"].append(value_inc_vat)\n",
    "    series[\"monthDataSeries1\"][\"dates\"].append(valid_from_str)"
   ]
  },
  {
   "cell_type": "code",
   "execution_count": 9,
   "metadata": {},
   "outputs": [
    {
     "data": {
      "text/plain": [
       "{'prices': [24.39255, 8.49975, 24.39255, 8.49975, 24.39255, 27.9363, 8.99997],\n",
       " 'dates': ['02 Jul 2024',\n",
       "  '01 Jul 2024',\n",
       "  '01 Jul 2024',\n",
       "  '30 Jun 2024',\n",
       "  '30 Jun 2024',\n",
       "  '30 Jun 2024',\n",
       "  '29 Jun 2024']}"
      ]
     },
     "execution_count": 9,
     "metadata": {},
     "output_type": "execute_result"
    }
   ],
   "source": [
    "series[\"monthDataSeries1\"]"
   ]
  },
  {
   "cell_type": "code",
   "execution_count": 10,
   "metadata": {},
   "outputs": [],
   "source": [
    "series_json = json.dumps(series)"
   ]
  },
  {
   "cell_type": "code",
   "execution_count": 11,
   "metadata": {},
   "outputs": [
    {
     "data": {
      "text/plain": [
       "'{\"monthDataSeries1\": {\"prices\": [24.39255, 8.49975, 24.39255, 8.49975, 24.39255, 27.9363, 8.99997], \"dates\": [\"02 Jul 2024\", \"01 Jul 2024\", \"01 Jul 2024\", \"30 Jun 2024\", \"30 Jun 2024\", \"30 Jun 2024\", \"29 Jun 2024\"]}}'"
      ]
     },
     "execution_count": 11,
     "metadata": {},
     "output_type": "execute_result"
    }
   ],
   "source": [
    "series_json"
   ]
  },
  {
   "cell_type": "code",
   "execution_count": 12,
   "metadata": {},
   "outputs": [
    {
     "data": {
      "text/html": [
       "<div>\n",
       "<style scoped>\n",
       "    .dataframe tbody tr th:only-of-type {\n",
       "        vertical-align: middle;\n",
       "    }\n",
       "\n",
       "    .dataframe tbody tr th {\n",
       "        vertical-align: top;\n",
       "    }\n",
       "\n",
       "    .dataframe thead th {\n",
       "        text-align: right;\n",
       "    }\n",
       "</style>\n",
       "<table border=\"1\" class=\"dataframe\">\n",
       "  <thead>\n",
       "    <tr style=\"text-align: right;\">\n",
       "      <th></th>\n",
       "      <th>value_exc_vat</th>\n",
       "      <th>value_inc_vat</th>\n",
       "      <th>valid_from</th>\n",
       "      <th>valid_to</th>\n",
       "      <th>payment_method</th>\n",
       "    </tr>\n",
       "  </thead>\n",
       "  <tbody>\n",
       "    <tr>\n",
       "      <th>0</th>\n",
       "      <td>23.2310</td>\n",
       "      <td>24.39255</td>\n",
       "      <td>2024-07-02T04:30:00Z</td>\n",
       "      <td>2024-07-02T23:30:00Z</td>\n",
       "      <td>None</td>\n",
       "    </tr>\n",
       "    <tr>\n",
       "      <th>1</th>\n",
       "      <td>8.0950</td>\n",
       "      <td>8.49975</td>\n",
       "      <td>2024-07-01T23:30:00Z</td>\n",
       "      <td>2024-07-02T04:30:00Z</td>\n",
       "      <td>None</td>\n",
       "    </tr>\n",
       "    <tr>\n",
       "      <th>2</th>\n",
       "      <td>23.2310</td>\n",
       "      <td>24.39255</td>\n",
       "      <td>2024-07-01T04:30:00Z</td>\n",
       "      <td>2024-07-01T23:30:00Z</td>\n",
       "      <td>None</td>\n",
       "    </tr>\n",
       "    <tr>\n",
       "      <th>3</th>\n",
       "      <td>8.0950</td>\n",
       "      <td>8.49975</td>\n",
       "      <td>2024-06-30T23:30:00Z</td>\n",
       "      <td>2024-07-01T04:30:00Z</td>\n",
       "      <td>None</td>\n",
       "    </tr>\n",
       "    <tr>\n",
       "      <th>4</th>\n",
       "      <td>23.2310</td>\n",
       "      <td>24.39255</td>\n",
       "      <td>2024-06-30T23:00:00Z</td>\n",
       "      <td>2024-06-30T23:30:00Z</td>\n",
       "      <td>None</td>\n",
       "    </tr>\n",
       "    <tr>\n",
       "      <th>5</th>\n",
       "      <td>26.6060</td>\n",
       "      <td>27.93630</td>\n",
       "      <td>2024-06-30T03:30:00Z</td>\n",
       "      <td>2024-06-30T23:00:00Z</td>\n",
       "      <td>None</td>\n",
       "    </tr>\n",
       "    <tr>\n",
       "      <th>6</th>\n",
       "      <td>8.5714</td>\n",
       "      <td>8.99997</td>\n",
       "      <td>2024-06-29T23:30:00Z</td>\n",
       "      <td>2024-06-30T03:30:00Z</td>\n",
       "      <td>None</td>\n",
       "    </tr>\n",
       "  </tbody>\n",
       "</table>\n",
       "</div>"
      ],
      "text/plain": [
       "   value_exc_vat  value_inc_vat            valid_from              valid_to  \\\n",
       "0        23.2310       24.39255  2024-07-02T04:30:00Z  2024-07-02T23:30:00Z   \n",
       "1         8.0950        8.49975  2024-07-01T23:30:00Z  2024-07-02T04:30:00Z   \n",
       "2        23.2310       24.39255  2024-07-01T04:30:00Z  2024-07-01T23:30:00Z   \n",
       "3         8.0950        8.49975  2024-06-30T23:30:00Z  2024-07-01T04:30:00Z   \n",
       "4        23.2310       24.39255  2024-06-30T23:00:00Z  2024-06-30T23:30:00Z   \n",
       "5        26.6060       27.93630  2024-06-30T03:30:00Z  2024-06-30T23:00:00Z   \n",
       "6         8.5714        8.99997  2024-06-29T23:30:00Z  2024-06-30T03:30:00Z   \n",
       "\n",
       "  payment_method  \n",
       "0           None  \n",
       "1           None  \n",
       "2           None  \n",
       "3           None  \n",
       "4           None  \n",
       "5           None  \n",
       "6           None  "
      ]
     },
     "execution_count": 12,
     "metadata": {},
     "output_type": "execute_result"
    }
   ],
   "source": [
    "df"
   ]
  },
  {
   "cell_type": "code",
   "execution_count": 15,
   "metadata": {},
   "outputs": [
    {
     "data": {
      "text/plain": [
       "[{'value': 24.39255, 'datetime': '02 Jul 2024'},\n",
       " {'value': 8.49975, 'datetime': '01 Jul 2024'},\n",
       " {'value': 24.39255, 'datetime': '01 Jul 2024'},\n",
       " {'value': 8.49975, 'datetime': '30 Jun 2024'},\n",
       " {'value': 24.39255, 'datetime': '30 Jun 2024'},\n",
       " {'value': 27.9363, 'datetime': '30 Jun 2024'},\n",
       " {'value': 8.99997, 'datetime': '29 Jun 2024'}]"
      ]
     },
     "execution_count": 15,
     "metadata": {},
     "output_type": "execute_result"
    }
   ],
   "source": [
    "[{\"value\": y, \"datetime\": x} for x, y in zip(series[\"monthDataSeries1\"][\"dates\"], series[\"monthDataSeries1\"][\"prices\"])]"
   ]
  },
  {
   "cell_type": "code",
   "execution_count": null,
   "metadata": {},
   "outputs": [],
   "source": []
  }
 ],
 "metadata": {
  "kernelspec": {
   "display_name": ".venv",
   "language": "python",
   "name": "python3"
  },
  "language_info": {
   "codemirror_mode": {
    "name": "ipython",
    "version": 3
   },
   "file_extension": ".py",
   "mimetype": "text/x-python",
   "name": "python",
   "nbconvert_exporter": "python",
   "pygments_lexer": "ipython3",
   "version": "3.12.4"
  }
 },
 "nbformat": 4,
 "nbformat_minor": 2
}
